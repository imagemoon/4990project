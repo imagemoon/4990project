{
 "cells": [
  {
   "cell_type": "code",
   "execution_count": null,
   "metadata": {
    "collapsed": false
   },
   "outputs": [],
   "source": [
    "import pandas as pd\n",
    "import numpy\n",
    "df = pd.read_pickle('../Practice/4990project/Yelp/Yelp_WebApp/WebApp_starter/df_user_for_sql')\n",
    "df_business = pd.read_pickle('../Practice/4990project/Yelp/Yelp_WebApp/WebApp_starter/business_detail_for _sql')\n",
    "GM = numpy.load('../Practice/4990project/Yelp/Yelp_WebApp/WebApp_starter/diffsion')\n",
    "df_user = pd.read_pickle('../Practice/4990project/Yelp/Yelp_WebApp/WebApp_starter/df_user_to_sql')\n",
    "\n",
    "def cosine(x, y):\n",
    "    z = 1. - numpy.dot(x, y) / (numpy.linalg.norm(x, ord=2) * numpy.linalg.norm(y, ord=2))\n",
    "    return z"
   ]
  },
  {
   "cell_type": "code",
   "execution_count": null,
   "metadata": {
    "collapsed": false,
    "scrolled": true
   },
   "outputs": [],
   "source": [
    "import MySQLdb\n",
    "\n",
    "#connect to db\n",
    "db = MySQLdb.connect(\"localhost\",\"root\",\"zfc17221658\",\"test\" )\n",
    "cursor = db.cursor()"
   ]
  },
  {
   "cell_type": "code",
   "execution_count": null,
   "metadata": {
    "collapsed": true
   },
   "outputs": [],
   "source": [
    "# User_information table\n",
    "sql = \"\"\"CREATE TABLE user6 (\n",
    "        user_id CHAR(100),  \n",
    "        city CHAR(100),\n",
    "        fans INT,\n",
    "        name CHAR(100),\n",
    "        review_count INT,\n",
    "        useful INT)\"\"\"\n",
    "cursor.execute(sql)\n",
    "\n",
    "for i in xrange(len(df)):\n",
    "    cursor.execute(\"\"\"INSERT INTO user6 VALUES (%s, %s, %s, %s, %s, %s)\"\"\",(df.values[i][0],\n",
    "                                                                            df.values[i][1], \n",
    "                                                                            df.values[i][2], \n",
    "                                                                            df.values[i][3], \n",
    "                                                                            df.values[i][4],\n",
    "                                                                            df.values[i][5]))\n",
    "\n",
    "db.commit()"
   ]
  },
  {
   "cell_type": "code",
   "execution_count": null,
   "metadata": {
    "collapsed": false
   },
   "outputs": [],
   "source": [
    "# Business_detail table\n",
    "categories = df_business.columns.str.replace('&', 'and').str.replace('/', '_').str.replace('-', '_'). \\\n",
    "            str.replace('(', '').str.replace(')', '').str.replace(\"'\", '').values[:-5]\n",
    "\n",
    "sql = \"\"\"CREATE TABLE business_detail8 (\n",
    "        address char(255),\n",
    "        business_id char(30),\n",
    "        business_city char(100),\n",
    "        business_name char(100)\n",
    "        )\"\"\"\n",
    "cursor.execute(sql)\n",
    "\n",
    "for i in categories:\n",
    "    cursor.execute(\"\"\"alter table business_detail8 add %s int\"\"\" %(i))\n",
    "\n",
    "cursor.execute(\"\"\"alter table business_detail8 add categories__Pop_up_Shops int\"\"\")\n",
    "A = df_business.values\n",
    "for i in xrange(len(df_business)):\n",
    "    if i == 809:\n",
    "        continue\n",
    "    if i == 1102:\n",
    "        continue\n",
    "    a = numpy.array([])\n",
    "    a = numpy.append(numpy.append(numpy.append(a, A[i][-5:-1]), A[i][:-5]), A[i][-1])\n",
    "    b = numpy.array2string(a).replace('[', '(').replace(']', ')').replace(' ', ',')\n",
    "    if b[1] == ',':\n",
    "        b = b[0]+b[2:]\n",
    "    cursor.execute(\"\"\"INSERT INTO business_detail8 VALUES %s;\"\"\" %(b))\n",
    "    \n",
    "#     print(i)\n",
    "db.commit()"
   ]
  },
  {
   "cell_type": "code",
   "execution_count": null,
   "metadata": {
    "collapsed": false
   },
   "outputs": [],
   "source": [
    "# GM diffusion operator table\n",
    "\n",
    "sql = \"\"\"CREATE TABLE GM (\n",
    "        c0 float(10)\n",
    "        )\"\"\"\n",
    "cursor.execute(sql)\n",
    "\n",
    "for i in xrange(1,369):\n",
    "    cursor.execute(\"\"\"alter table GM add c%s float(10)\"\"\" %(i))\n",
    "db.commit()\n",
    "\n",
    "GM[numpy.isnan(GM)] = 0.\n",
    "for i in xrange(len(GM)):\n",
    "    cursor.execute(\"\"\"INSERT INTO GM VALUES %s;\"\"\" %(b))\n",
    "    \n",
    "    print(i)\n",
    "db.commit()"
   ]
  },
  {
   "cell_type": "code",
   "execution_count": null,
   "metadata": {
    "collapsed": true
   },
   "outputs": [],
   "source": [
    "# User_detail table\n",
    "categories = df_user.columns.str.replace('&', 'and').str.replace('/', '_').str.replace('-', '_'). \\\n",
    "            str.replace('(', '').str.replace(')', '').str.replace(\"'\", '').values[1:-1]\n",
    "\n",
    "sql = \"\"\"CREATE TABLE user_detail (\n",
    "        user_id char(255),\n",
    "        city char(200)\n",
    "        )\"\"\"\n",
    "cursor.execute(sql)\n",
    "\n",
    "for i in categories:\n",
    "    cursor.execute(\"\"\"alter table user_detail add %s int\"\"\" %(i))\n",
    "db.commit()\n",
    "\n",
    "A = df_user.values\n",
    "for i in xrange(len(df_user)):\n",
    "    a = numpy.array([])\n",
    "    a = numpy.append(numpy.append(numpy.append(a, A[i][0]), A[i][-1]), A[i][1:-1])\n",
    "    b = numpy.array2string(a).replace('[', '(').replace(']', ')').replace(' ', ',')\n",
    "\n",
    "    cursor.execute(\"\"\"INSERT INTO user_detail VALUES %s;\"\"\" %(b))\n",
    "    \n",
    "    print(i)\n",
    "db.commit()"
   ]
  },
  {
   "cell_type": "code",
   "execution_count": null,
   "metadata": {
    "collapsed": false
   },
   "outputs": [],
   "source": [
    "# User_recommendation table\n",
    "sql = \"\"\"CREATE TABLE user_recommend5 (\n",
    "        self_user int,\n",
    "        self_user_id char(100),\n",
    "        user1 int,  \n",
    "        user2 int,\n",
    "        user3 INT,\n",
    "        user1_id CHAR(100),\n",
    "        user2_id CHAR(100),\n",
    "        user3_id CHAR(100)\n",
    "        )\n",
    "        \"\"\"\n",
    "cursor.execute(sql)\n",
    "X = df_user.drop(['user_id', 'city'], axis=1).values\n",
    "id_ = df_user.user_id.values\n",
    "N = len(df)\n",
    "for nu in xrange(N):\n",
    "    self_user = nu\n",
    "    self_user_id = id_[nu]\n",
    "    self_user_habit = X[nu, :]\n",
    "    user_cosine = []\n",
    "    for i in xrange(N):\n",
    "        if i == nu:\n",
    "            user_cosine.append(1)\n",
    "            continue\n",
    "        if numpy.count_nonzero(X[i, :]) == 0:\n",
    "            user_cosine.append(1)\n",
    "            continue\n",
    "        user_cosine.append(cosine(X[i, :], self_user_habit))\n",
    "    user1, user2, user3 = numpy.array(user_cosine).argsort()[:3][::-1]\n",
    "    user1_id, user2_id, user3_id = id_[[user1, user2, user3]]\n",
    "    cursor.execute(\"\"\"INSERT INTO user_recommend5 VALUES (%s, %s, %s, %s, %s, %s, %s, %s)\"\"\",\n",
    "                   (self_user,\n",
    "                    self_user_id, \n",
    "                    user1,\n",
    "                    user2,\n",
    "                    user3,\n",
    "                    user1_id,\n",
    "                    user2_id,\n",
    "                    user3_id))\n",
    "    if nu % 100 ==0:\n",
    "        print nu\n",
    "\n",
    "db.commit()\n"
   ]
  },
  {
   "cell_type": "code",
   "execution_count": 1,
   "metadata": {
    "collapsed": false
   },
   "outputs": [
    {
     "ename": "NameError",
     "evalue": "name 'df_user' is not defined",
     "output_type": "error",
     "traceback": [
      "\u001b[0;31m---------------------------------------------------------------------------\u001b[0m",
      "\u001b[0;31mNameError\u001b[0m                                 Traceback (most recent call last)",
      "\u001b[0;32m<ipython-input-1-3b4ae590f61b>\u001b[0m in \u001b[0;36m<module>\u001b[0;34m()\u001b[0m\n\u001b[0;32m----> 1\u001b[0;31m \u001b[0mu_h\u001b[0m \u001b[0;34m=\u001b[0m \u001b[0mdf_user\u001b[0m\u001b[0;34m.\u001b[0m\u001b[0mvalues\u001b[0m\u001b[0;34m[\u001b[0m\u001b[0;34m:\u001b[0m\u001b[0;34m,\u001b[0m \u001b[0;36m1\u001b[0m\u001b[0;34m:\u001b[0m\u001b[0;34m-\u001b[0m\u001b[0;36m2\u001b[0m\u001b[0;34m]\u001b[0m\u001b[0;34m\u001b[0m\u001b[0m\n\u001b[0m\u001b[1;32m      2\u001b[0m \u001b[0mb_h\u001b[0m \u001b[0;34m=\u001b[0m \u001b[0mdf_business\u001b[0m\u001b[0;34m.\u001b[0m\u001b[0mvalues\u001b[0m\u001b[0;34m[\u001b[0m\u001b[0;34m:\u001b[0m\u001b[0;34m,\u001b[0m \u001b[0;34m:\u001b[0m\u001b[0;34m-\u001b[0m\u001b[0;36m5\u001b[0m\u001b[0;34m]\u001b[0m\u001b[0;34m\u001b[0m\u001b[0m\n\u001b[1;32m      3\u001b[0m \u001b[0mcategories\u001b[0m \u001b[0;34m=\u001b[0m \u001b[0mdf_user\u001b[0m\u001b[0;34m.\u001b[0m\u001b[0mcolumns\u001b[0m\u001b[0;34m.\u001b[0m\u001b[0mvalues\u001b[0m\u001b[0;34m[\u001b[0m\u001b[0;36m1\u001b[0m\u001b[0;34m:\u001b[0m\u001b[0;34m-\u001b[0m\u001b[0;36m2\u001b[0m\u001b[0;34m]\u001b[0m\u001b[0;34m\u001b[0m\u001b[0m\n\u001b[1;32m      4\u001b[0m \u001b[0mN\u001b[0m \u001b[0;34m=\u001b[0m \u001b[0mlen\u001b[0m\u001b[0;34m(\u001b[0m\u001b[0mu_h\u001b[0m\u001b[0;34m)\u001b[0m\u001b[0;34m\u001b[0m\u001b[0m\n\u001b[1;32m      5\u001b[0m \u001b[0mM\u001b[0m \u001b[0;34m=\u001b[0m \u001b[0mlen\u001b[0m\u001b[0;34m(\u001b[0m\u001b[0mb_h\u001b[0m\u001b[0;34m)\u001b[0m\u001b[0;34m\u001b[0m\u001b[0m\n",
      "\u001b[0;31mNameError\u001b[0m: name 'df_user' is not defined"
     ]
    }
   ],
   "source": [
    "# Business_recommendation table\n",
    "sql = \"\"\"CREATE TABLE business_recommend3 (\n",
    "        user_id CHAR(100),  \n",
    "        user_number INT,\n",
    "        business1 CHAR(100),\n",
    "        business2 CHAR(100),\n",
    "        business3 CHAR(100),\n",
    "        categories1 CHAR(100),\n",
    "        categories2 CHAR(100),\n",
    "        categories3 CHAR(100))\"\"\"\n",
    "cursor.execute(sql)\n",
    "\n",
    "db.commit()\n",
    "\n",
    "u_h = df_user.values[:, 1:-2]\n",
    "b_h = df_business.values[:, :-5]\n",
    "categories = df_user.columns.values[1:-2]\n",
    "uid = df_user.user_id.values\n",
    "business_name = df_business.business_name.values\n",
    "N = len(u_h)\n",
    "M = len(b_h)\n",
    "for i in xrange(N):\n",
    "    if numpy.count_nonzero(u_h[i, :]) == 0:\n",
    "        continue\n",
    "    user_id = uid[i]\n",
    "    user_business_cosine = []\n",
    "    categories1, categories2, categories3 = categories[u_h[i, :].argsort()[:3][::-1]]\n",
    "    for j in numpy.random.randint(0, M, size=100):\n",
    "        if numpy.count_nonzero(b_h[j, :]) == 0:\n",
    "            user_business_cosine.append(1)\n",
    "            continue\n",
    "        user_business_cosine.append(cosine(u_h[i,:], b_h[j, :]))\n",
    "    business_number = numpy.array(user_business_cosine).argsort()[:3][::-1]\n",
    "    business1, business2, business3 = business_name[business_number]\n",
    "    cursor.execute(\"\"\"INSERT INTO business_recommend3 VALUES (%s, %s, %s, %s, %s, %s, %s, %s)\"\"\",\n",
    "                   (user_id,\n",
    "                    i, \n",
    "                    business1,\n",
    "                    business2,\n",
    "                    business3,\n",
    "                    categories1,\n",
    "                    categories2,\n",
    "                    categories3))\n",
    "    if i % 10 ==0:\n",
    "        print i\n",
    "db.commit()"
   ]
  }
 ],
 "metadata": {
  "kernelspec": {
   "display_name": "Python 2",
   "language": "python",
   "name": "python2"
  },
  "language_info": {
   "codemirror_mode": {
    "name": "ipython",
    "version": 2
   },
   "file_extension": ".py",
   "mimetype": "text/x-python",
   "name": "python",
   "nbconvert_exporter": "python",
   "pygments_lexer": "ipython2",
   "version": "2.7.13"
  }
 },
 "nbformat": 4,
 "nbformat_minor": 2
}
