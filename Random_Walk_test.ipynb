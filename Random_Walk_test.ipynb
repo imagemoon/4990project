{
 "cells": [
  {
   "cell_type": "code",
   "execution_count": 1,
   "metadata": {
    "collapsed": false
   },
   "outputs": [],
   "source": [
    "import pandas as pd\n",
    "import numpy as np\n",
    "import scipy\n",
    "from sklearn import model_selection\n",
    "pd.set_option('display.max_columns', 500)"
   ]
  },
  {
   "cell_type": "code",
   "execution_count": 2,
   "metadata": {
    "collapsed": false
   },
   "outputs": [
    {
     "name": "stdout",
     "output_type": "stream",
     "text": [
      "<class 'pandas.core.frame.DataFrame'>\n",
      "RangeIndex: 372566 entries, 0 to 372565\n",
      "Columns: 372 entries, Unnamed: 0 to city\n",
      "dtypes: float64(369), int64(1), object(2)\n",
      "memory usage: 1.0+ GB\n"
     ]
    }
   ],
   "source": [
    "df = pd.read_csv('../user_detail.csv')\n",
    "df.info()"
   ]
  },
  {
   "cell_type": "code",
   "execution_count": 3,
   "metadata": {
    "collapsed": false
   },
   "outputs": [],
   "source": [
    "X = df.drop(['Unnamed: 0', 'user_id', 'city'], axis=1)[:150000]"
   ]
  },
  {
   "cell_type": "code",
   "execution_count": 4,
   "metadata": {
    "collapsed": false
   },
   "outputs": [],
   "source": [
    "train, test = model_selection.train_test_split(X, test_size = 0.2)\n",
    "test_1 = test.copy()\n",
    "test_2 = test.copy()\n",
    "test_1.ix[:, 300:] = 0.\n",
    "test_2.ix[:, :300] = 0."
   ]
  },
  {
   "cell_type": "code",
   "execution_count": 5,
   "metadata": {
    "collapsed": false
   },
   "outputs": [],
   "source": [
    "M = train.div(train.sum(axis=1), axis=0).fillna(value=0.)\n",
    "G = train / train.sum().astype(np.float64).fillna(value=0.)"
   ]
  },
  {
   "cell_type": "code",
   "execution_count": 6,
   "metadata": {
    "collapsed": false
   },
   "outputs": [],
   "source": [
    "M = np.array(M.values)\n",
    "G = np.array(G.values).T"
   ]
  },
  {
   "cell_type": "code",
   "execution_count": 9,
   "metadata": {
    "collapsed": false
   },
   "outputs": [
    {
     "name": "stdout",
     "output_type": "stream",
     "text": [
      "****************************************\n",
      "Test set have 16514 nonzero elements\n",
      "****************************************\n",
      "The number of accurate prediction is 12336 under coefficient 1\n",
      "Accuracy rate is 0.75\n",
      "----------------------------------------\n",
      "The number of accurate prediction is 10118 under coefficient 2\n",
      "Accuracy rate is 0.61\n",
      "----------------------------------------\n",
      "The number of accurate prediction is 10118 under coefficient 3\n",
      "Accuracy rate is 0.61\n",
      "----------------------------------------\n",
      "The number of accurate prediction is 10118 under coefficient 4\n",
      "Accuracy rate is 0.61\n",
      "----------------------------------------\n",
      "The number of accurate prediction is 10118 under coefficient 5\n",
      "Accuracy rate is 0.61\n",
      "----------------------------------------\n"
     ]
    }
   ],
   "source": [
    "print '*'*40\n",
    "print 'Test set have %s nonzero elements' %(np.count_nonzero(test_2.values))\n",
    "print '*'*40\n",
    "for m in [1, 2, 3, 4, 5]:\n",
    "    GM = np.linalg.matrix_power(np.dot(G, M), m)\n",
    "    j = 0\n",
    "    for i in xrange(len(test_1)):\n",
    "        if np.count_nonzero(test_2.values[i, :]) != 0:\n",
    "            pi = np.dot(GM, test_1.values[i,:])\n",
    "            pi[np.isnan(pi)] = 0.\n",
    "            pre = pi[300:].argsort()[-20:][::-1]\n",
    "            real = np.nonzero(test_2.values[i, 300:])[0]\n",
    "            for p in pre:\n",
    "                if p in real:\n",
    "                    j += 1\n",
    "    print 'The number of accurate prediction is %s under coefficient %s' %(j, m)\n",
    "    print 'Accuracy rate is %.2f' %(float(j) / float(np.count_nonzero(test_2.values)))\n",
    "    print '-'*40"
   ]
  },
  {
   "cell_type": "code",
   "execution_count": null,
   "metadata": {
    "collapsed": true
   },
   "outputs": [],
   "source": []
  }
 ],
 "metadata": {
  "kernelspec": {
   "display_name": "Python 2",
   "language": "python",
   "name": "python2"
  },
  "language_info": {
   "codemirror_mode": {
    "name": "ipython",
    "version": 2
   },
   "file_extension": ".py",
   "mimetype": "text/x-python",
   "name": "python",
   "nbconvert_exporter": "python",
   "pygments_lexer": "ipython2",
   "version": "2.7.13"
  }
 },
 "nbformat": 4,
 "nbformat_minor": 2
}
