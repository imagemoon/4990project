{
 "cells": [
  {
   "cell_type": "code",
   "execution_count": 1,
   "metadata": {
    "collapsed": true
   },
   "outputs": [],
   "source": [
    "import numpy as np\n",
    "import pandas as pd\n",
    "import scipy.sparse\n",
    "from scipy import io"
   ]
  },
  {
   "cell_type": "code",
   "execution_count": 9,
   "metadata": {
    "collapsed": true
   },
   "outputs": [],
   "source": [
    "user_detail = pd.read_csv('../user_detail.csv')\n",
    "user_detail = user_detail.drop(user_detail.columns[0], axis=1)[:10000]"
   ]
  },
  {
   "cell_type": "code",
   "execution_count": 11,
   "metadata": {
    "collapsed": false
   },
   "outputs": [],
   "source": [
    "user_detail.to_pickle('df_user_to_sql')"
   ]
  },
  {
   "cell_type": "code",
   "execution_count": 3,
   "metadata": {
    "collapsed": true
   },
   "outputs": [],
   "source": [
    "df_user = pd.read_csv('../../yelp_data/user1.csv', usecols=[15, 18, 19, 21, 22])"
   ]
  },
  {
   "cell_type": "code",
   "execution_count": 4,
   "metadata": {
    "collapsed": false
   },
   "outputs": [],
   "source": [
    "user_detail.values[:, 1:-1].astype(np.float64).dump('u_d_spm2')"
   ]
  },
  {
   "cell_type": "code",
   "execution_count": 5,
   "metadata": {
    "collapsed": true
   },
   "outputs": [],
   "source": [
    "# io.mmwrite('u_d_spm', u_d_spm)"
   ]
  },
  {
   "cell_type": "code",
   "execution_count": 6,
   "metadata": {
    "collapsed": false
   },
   "outputs": [],
   "source": [
    "df = pd.merge(user_detail[['user_id', 'city']], df_user, how='inner', on='user_id')\n",
    "df.values.dump('u_d2')"
   ]
  },
  {
   "cell_type": "code",
   "execution_count": 7,
   "metadata": {
    "collapsed": false
   },
   "outputs": [
    {
     "data": {
      "text/html": [
       "<div>\n",
       "<table border=\"1\" class=\"dataframe\">\n",
       "  <thead>\n",
       "    <tr style=\"text-align: right;\">\n",
       "      <th></th>\n",
       "      <th>user_id</th>\n",
       "      <th>city</th>\n",
       "      <th>fans</th>\n",
       "      <th>name</th>\n",
       "      <th>review_count</th>\n",
       "      <th>useful</th>\n",
       "    </tr>\n",
       "  </thead>\n",
       "  <tbody>\n",
       "    <tr>\n",
       "      <th>0</th>\n",
       "      <td>---1lKK3aKOuomHnwAkAow</td>\n",
       "      <td>Las Vegas</td>\n",
       "      <td>14</td>\n",
       "      <td>Monera</td>\n",
       "      <td>244</td>\n",
       "      <td>67</td>\n",
       "    </tr>\n",
       "    <tr>\n",
       "      <th>1</th>\n",
       "      <td>---cu1hq55BP9DWVXXKHZg</td>\n",
       "      <td>Phoenix</td>\n",
       "      <td>0</td>\n",
       "      <td>Jeb</td>\n",
       "      <td>55</td>\n",
       "      <td>32</td>\n",
       "    </tr>\n",
       "    <tr>\n",
       "      <th>2</th>\n",
       "      <td>--1mPJZdSY9KluaBYAGboQ</td>\n",
       "      <td>Las Vegas</td>\n",
       "      <td>0</td>\n",
       "      <td>Bryan</td>\n",
       "      <td>5</td>\n",
       "      <td>0</td>\n",
       "    </tr>\n",
       "    <tr>\n",
       "      <th>3</th>\n",
       "      <td>--2bpE5vyR-2hAP7sZZ4lA</td>\n",
       "      <td>Las Vegas</td>\n",
       "      <td>0</td>\n",
       "      <td>Gary</td>\n",
       "      <td>22</td>\n",
       "      <td>0</td>\n",
       "    </tr>\n",
       "    <tr>\n",
       "      <th>4</th>\n",
       "      <td>--2vR0DIsmQ6WfcSzKWigw</td>\n",
       "      <td>Las Vegas</td>\n",
       "      <td>290</td>\n",
       "      <td>Harald</td>\n",
       "      <td>1089</td>\n",
       "      <td>105322</td>\n",
       "    </tr>\n",
       "  </tbody>\n",
       "</table>\n",
       "</div>"
      ],
      "text/plain": [
       "                  user_id       city  fans    name  review_count  useful\n",
       "0  ---1lKK3aKOuomHnwAkAow  Las Vegas    14  Monera           244      67\n",
       "1  ---cu1hq55BP9DWVXXKHZg    Phoenix     0     Jeb            55      32\n",
       "2  --1mPJZdSY9KluaBYAGboQ  Las Vegas     0   Bryan             5       0\n",
       "3  --2bpE5vyR-2hAP7sZZ4lA  Las Vegas     0    Gary            22       0\n",
       "4  --2vR0DIsmQ6WfcSzKWigw  Las Vegas   290  Harald          1089  105322"
      ]
     },
     "execution_count": 7,
     "metadata": {},
     "output_type": "execute_result"
    }
   ],
   "source": [
    "df.head()"
   ]
  },
  {
   "cell_type": "code",
   "execution_count": 8,
   "metadata": {
    "collapsed": true
   },
   "outputs": [],
   "source": [
    "df.to_pickle('df_user_for_sql')"
   ]
  },
  {
   "cell_type": "code",
   "execution_count": 32,
   "metadata": {
    "collapsed": false
   },
   "outputs": [],
   "source": [
    "np.array(['user_id', 'city', 'fans', 'name', 'review_count', 'useful']).dump('u_d_title')"
   ]
  },
  {
   "cell_type": "code",
   "execution_count": null,
   "metadata": {
    "collapsed": true
   },
   "outputs": [],
   "source": []
  }
 ],
 "metadata": {
  "kernelspec": {
   "display_name": "Python 2",
   "language": "python",
   "name": "python2"
  },
  "language_info": {
   "codemirror_mode": {
    "name": "ipython",
    "version": 2
   },
   "file_extension": ".py",
   "mimetype": "text/x-python",
   "name": "python",
   "nbconvert_exporter": "python",
   "pygments_lexer": "ipython2",
   "version": "2.7.13"
  }
 },
 "nbformat": 4,
 "nbformat_minor": 2
}
